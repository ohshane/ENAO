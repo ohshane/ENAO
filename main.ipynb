{
 "cells": [
  {
   "cell_type": "code",
   "execution_count": 1,
   "source": [
    "# for Ipykernels\n",
    "\n",
    "import nest_asyncio\n",
    "nest_asyncio.apply()"
   ],
   "outputs": [],
   "metadata": {}
  },
  {
   "cell_type": "code",
   "execution_count": 2,
   "source": [
    "import asyncio\n",
    "import aiohttp\n",
    "import pandas as pd\n",
    "\n",
    "async def fetch_genres(session, url):\n",
    "    try:\n",
    "        async with session.get(url) as res:\n",
    "            res = await res.read()\n",
    "            df = pd.read_html(res)[0]\n",
    "            df.drop(df.columns[[0, 1]], axis=1, inplace=True)\n",
    "            df.columns = [\"genre\"]\n",
    "            genres = df.genre.tolist()\n",
    "            for i in range(len(genres)):\n",
    "                genres[i] = genres[i][:-1] if genres[i][-1] in \"-+\" else genres[i]\n",
    "            return genres\n",
    "    except Exception as e:\n",
    "        print(f\"an error occurred: {e}\")\n",
    "        return []\n",
    "\n",
    "async def get_genres(genres=None):\n",
    "    def get_url(genre):\n",
    "        if genre is None:\n",
    "            return \"https://everynoise.com/everynoise1d.cgi?vector=popularity&scope=all\"\n",
    "        else:\n",
    "            return f\"https://everynoise.com/everynoise1d.cgi?root={genre}&scope=all\"\n",
    "\n",
    "    if not isinstance(genres, list):\n",
    "        genres = [genres]\n",
    "\n",
    "    tasks = []\n",
    "    async with aiohttp.ClientSession() as session:\n",
    "        for genre in genres:\n",
    "            tasks.append(\n",
    "                asyncio.ensure_future(fetch_genres(session, get_url(genre)))\n",
    "            )\n",
    "        return await asyncio.gather(*tasks)"
   ],
   "outputs": [],
   "metadata": {}
  },
  {
   "cell_type": "code",
   "execution_count": 3,
   "source": [
    "loop = asyncio.get_event_loop()\n",
    "future = asyncio.ensure_future(get_genres())\n",
    "genres = loop.run_until_complete(future)[0]\n",
    "print(f\"total genres: {len(genres)}\")\n",
    "print(f\"{str(genres[:5])[1:-1]} etc.\")"
   ],
   "outputs": [
    {
     "output_type": "stream",
     "name": "stdout",
     "text": [
      "total genres: 5521\n",
      "'pop', 'dance pop', 'rap', 'post-teen pop', 'rock' etc.\n"
     ]
    }
   ],
   "metadata": {}
  },
  {
   "cell_type": "code",
   "execution_count": 4,
   "source": [
    "import numpy as np\n",
    "\n",
    "np.savetxt(\"./genres\", genres, fmt=\"%s\")\n",
    "np.savez_compressed(\"./genres\", genres, fmt=\"%s\")"
   ],
   "outputs": [],
   "metadata": {}
  },
  {
   "cell_type": "code",
   "execution_count": 11,
   "source": [
    "genres = np.load(\"./genres.npz\")\n",
    "genres = genres[\"arr_0\"]\n",
    "print(genres)"
   ],
   "outputs": [
    {
     "output_type": "stream",
     "name": "stdout",
     "text": [
      "['pop' 'dance pop' 'rap' ... 'yunnan traditional' 'classical string trio'\n",
      " 'himene tarava']\n"
     ]
    }
   ],
   "metadata": {}
  },
  {
   "cell_type": "code",
   "execution_count": 12,
   "source": [
    "# loop = asyncio.get_event_loop()\n",
    "# future = asyncio.ensure_future(get_genres(genres))\n",
    "# genre_ranks = loop.run_until_complete(future)\n",
    "\n",
    "import time\n",
    "from tqdm import tqdm\n",
    "\n",
    "genres_ranks = []\n",
    "\n",
    "marks = list(range(len(genres)))[::1]\n",
    "marks.append(-1)\n",
    "\n",
    "for i in tqdm(range(len(marks) - 1)):\n",
    "    loop = asyncio.get_event_loop()\n",
    "    future = asyncio.ensure_future(get_genres(genres[marks[i]:marks[i+1]]))\n",
    "    temp_genre_ranks = loop.run_until_complete(future)\n",
    "    genres_ranks.extend(temp_genre_ranks)\n",
    "    time.sleep(10)"
   ],
   "outputs": [
    {
     "output_type": "stream",
     "name": "stderr",
     "text": [
      "  0%|          | 0/5521 [00:00<?, ?it/s]"
     ]
    }
   ],
   "metadata": {}
  },
  {
   "cell_type": "code",
   "execution_count": null,
   "source": [
    "import numpy as np\n",
    "\n",
    "genres_ranks = np.array(genres_ranks)\n",
    "np.savetxt(\"./genres_ranks\", genres_ranks)"
   ],
   "outputs": [],
   "metadata": {}
  }
 ],
 "metadata": {
  "orig_nbformat": 4,
  "language_info": {
   "name": "python",
   "version": "3.8.8",
   "mimetype": "text/x-python",
   "codemirror_mode": {
    "name": "ipython",
    "version": 3
   },
   "pygments_lexer": "ipython3",
   "nbconvert_exporter": "python",
   "file_extension": ".py"
  },
  "kernelspec": {
   "name": "python3",
   "display_name": "Python 3.8.8 64-bit ('venv': venv)"
  },
  "interpreter": {
   "hash": "4ae36cfb19ace0121c73511c7269e86793c15b5827487869c3c51d2a91a38c36"
  }
 },
 "nbformat": 4,
 "nbformat_minor": 2
}